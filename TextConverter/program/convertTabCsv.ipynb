{
 "cells": [
  {
   "cell_type": "code",
   "execution_count": 12,
   "id": "e72f8764",
   "metadata": {},
   "outputs": [],
   "source": [
    "import pandas as pd\n",
    "import argparse\n",
    "import os"
   ]
  },
  {
   "cell_type": "code",
   "execution_count": 15,
   "id": "b32aefa3",
   "metadata": {},
   "outputs": [],
   "source": [
    "#test command from WF component:\n",
    "#C:/Users/hchen/Anaconda3/python.exe convertTabCsv.py -programDir . -workingDir . -userId 1 -inputFormat CSV -inputFile \"MainTable.csv\"\n",
    "\n",
    "#command line\n",
    "command_line = False\n",
    "if command_line:\n",
    "    parser = argparse.ArgumentParser(description='Python program to convert between CSV and tab-delimited file.')\n",
    "    parser.add_argument('-programDir', type=str, help='the component program directory')\n",
    "    parser.add_argument('-workingDir', type=str, help='the component instance working directory')\n",
    "    parser.add_argument(\"-inputFile\", type=str)\n",
    "    parser.add_argument(\"-inputFormat\", type=str, choices=[\"CSV\", \"Tab-delimited\"], default=\"CSV\")\n",
    "    \n",
    "    args, option_file_index_args = parser.parse_known_args()\n",
    "    #no train_split_type\n",
    "    working_dir = args.workingDir\n",
    "    program_dir = args.programDir\n",
    "    file_name = args.inputFile\n",
    "    input_format = args.inputFormat\n",
    "else:\n",
    "    #test file\n",
    "    #file_name = \"MainTable_test_for_csv.csv\"\n",
    "    file_name = \"MainTable_test_for_tab.txt\"\n",
    "    #input format\n",
    "    #input_format=\"CSV\"\n",
    "    input_format=\"Tab-delimited\"\n",
    "    #working_dir\n",
    "    working_dir = \".\"\n",
    "    "
   ]
  },
  {
   "cell_type": "code",
   "execution_count": 16,
   "id": "359d2232",
   "metadata": {},
   "outputs": [],
   "source": [
    "df = None\n",
    "if input_format == \"CSV\":\n",
    "    df = pd.read_csv(file_name)\n",
    "    #output to tab-delimited\n",
    "    df.to_csv(os.path.join(working_dir, 'convertedDelimited.txt'), sep ='\\t', index=False)\n",
    "elif input_format == \"Tab-delimited\":\n",
    "    df = pd.read_csv(file_name, sep=\"\\t\")\n",
    "    #output to csv\n",
    "    df.to_csv(os.path.join(working_dir, 'convertedDelimited.csv'), index=False)"
   ]
  },
  {
   "cell_type": "code",
   "execution_count": null,
   "id": "044ca6c5",
   "metadata": {},
   "outputs": [],
   "source": []
  }
 ],
 "metadata": {
  "kernelspec": {
   "display_name": "Python 3 (ipykernel)",
   "language": "python",
   "name": "python3"
  },
  "language_info": {
   "codemirror_mode": {
    "name": "ipython",
    "version": 3
   },
   "file_extension": ".py",
   "mimetype": "text/x-python",
   "name": "python",
   "nbconvert_exporter": "python",
   "pygments_lexer": "ipython3",
   "version": "3.11.5"
  }
 },
 "nbformat": 4,
 "nbformat_minor": 5
}
