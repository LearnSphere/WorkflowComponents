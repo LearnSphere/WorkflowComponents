{
 "cells": [
  {
   "cell_type": "code",
   "execution_count": 1,
   "metadata": {},
   "outputs": [],
   "source": [
    "import pandas as pd\n",
    "import csv\n",
    "import os\n",
    "import glob\n",
    "import numpy as np\n",
    "import os\n",
    "from os import listdir\n",
    "from os.path import isfile, join\n",
    "import re\n",
    "import argparse\n",
    "import sys"
   ]
  },
  {
   "cell_type": "code",
   "execution_count": 87,
   "metadata": {
    "hide_input": false
   },
   "outputs": [
    {
     "name": "stdout",
     "output_type": "stream",
     "text": [
      "Invalid\n"
     ]
    }
   ],
   "source": [
    "command_line = False #false for jupyter notebook\n",
    "problem_file = \"\"\n",
    "transaction_file = \"\"\n",
    "workingDir = \"\"\n",
    "if command_line:\n",
    "    #command line\n",
    "    parser = argparse.ArgumentParser(description='Process datashop file.')\n",
    "    parser.add_argument('-programDir', type=str, help='the component program directory')\n",
    "    parser.add_argument('-workingDir', type=str, help='the component instance working directory')\n",
    "    parser.add_argument(\"-node\", nargs=1, action='append')\n",
    "    parser.add_argument(\"-fileIndex\", nargs=2, action='append')\n",
    "    \n",
    "    parser.add_argument(\"-get_demographic_name\", type=str, help='the problem name for demographic questions')\n",
    "    parser.add_argument(\"-get_confidence_name\", type=str, help='the problem name for confidence questions')\n",
    "\n",
    "    \n",
    "    args, option_file_index_args = parser.parse_known_args()\n",
    "\n",
    "    transaction_file = args.fileIndex[0][1]\n",
    "    problem_file = args.fileIndex[1][1]\n",
    "    workingDir = args.workingDir\n",
    "\n",
    "    tx = pd.read_csv(transaction_file,delimiter=\"\\t\", index_col='Row')\n",
    "    demoName = args.demographicName\n",
    "    if(tx['Problem Name'].str.contains(str(demoName)).any() == False):\n",
    "        demoName = \"Invalid\"\n",
    "    confName = args.surveyName\n",
    "    if(tx['Problem Name'].str.contains(str(confName)).any() == False):\n",
    "        confName = \"Invalid\"\n",
    "    \n",
    "    \n",
    "else:\n",
    "    #problems file\n",
    "    problem_file = \"problem.txt\"\n",
    "\n",
    "    #transactions file\n",
    "    transaction_file = \"trans.txt\"\n",
    "    workingDir = \".\"\n",
    "    \n",
    "    demoName = \"xxxls_demographicd1f2ba108dea44c89042afb763889f17\"\n",
    "    confName = \"xxxnewfcebdb97ba0548ffa72d13b2c5d83285\"\n",
    "    tx = pd.read_csv(transaction_file,delimiter=\"\\t\", index_col='Row')\n",
    "    if(tx['Problem Name'].str.contains(str(demoName)).any() == False):\n",
    "        demoName = \"Invalid\"\n",
    "    if(tx['Problem Name'].str.contains(str(confName)).any() == False):\n",
    "        confName = \"Invalid\"\n"
   ]
  },
  {
   "cell_type": "markdown",
   "metadata": {},
   "source": [
    "## Demographic Survey Results"
   ]
  },
  {
   "cell_type": "code",
   "execution_count": 88,
   "metadata": {
    "scrolled": true
   },
   "outputs": [],
   "source": [
    "#check if demoName is a valid problem name\n",
    "tx = pd.read_csv(transaction_file,delimiter=\"\\t\", index_col='Row')\n",
    "\n",
    "# for col in tx.columns:\n",
    "#     print(col)\n",
    "\n",
    "tx_subset = tx.loc[(tx['Problem Name'] == demoName)]\n",
    "\n",
    "stp_names = list(tx_subset['Step Name'])\n",
    "\n",
    "student_ids = set()\n",
    "\n",
    "    #{stpname: {}, }\n",
    "student_demos = {}\n",
    "if(demoName != \"Invalid\" and demoName != \"\"):\n",
    "    for name in stp_names:\n",
    "        student_demos[name] = {}\n",
    "\n",
    "    for problem_file in glob.glob(transaction_file):\n",
    "        df = pd.read_csv(problem_file,delimiter=\"\\t\", index_col='Row')\n",
    "\n",
    "\n",
    "        for i, j in df.iterrows():\n",
    "            student_id = j['Anon Student Id']\n",
    "            student_ids.add(student_id)\n",
    "\n",
    "            for name in stp_names:\n",
    "                if name in str(j['Step Name']) and str(j['Is Last Attempt']) == '1.0':\n",
    "                    if(\"<material>\" in j['Input']):\n",
    "                        student_demos[name][student_id]= re.findall(r'>(.*?)<', j['Input'])[0]\n",
    "                    else:\n",
    "                        student_demos[name][student_id]=j['Input']\n",
    "else:\n",
    "    for problem_file in glob.glob(transaction_file):\n",
    "        df = pd.read_csv(problem_file,delimiter=\"\\t\", index_col='Row')\n",
    "        for i, j in df.iterrows():\n",
    "                student_id = j['Anon Student Id']\n",
    "                student_ids.add(student_id)\n",
    "\n",
    "keyset = set()\n",
    "for k in student_demos:\n",
    "    keyset.update(student_demos[k])\n",
    "\n",
    "for k in student_demos:\n",
    "    for kk in keyset:\n",
    "        student_demos[k].setdefault(kk, 0)\n",
    "    \n"
   ]
  },
  {
   "cell_type": "markdown",
   "metadata": {},
   "source": [
    "## Confidence Survey Result"
   ]
  },
  {
   "cell_type": "code",
   "execution_count": 89,
   "metadata": {},
   "outputs": [
    {
     "name": "stdout",
     "output_type": "stream",
     "text": [
      "[]\n",
      "{}\n"
     ]
    }
   ],
   "source": [
    "tx = pd.read_csv(transaction_file,delimiter=\"\\t\", index_col='Row')\n",
    "\n",
    "tx_subset = tx.loc[(tx['Problem Name'] == confName)]\n",
    "\n",
    "conf_names = list(tx_subset['Step Name'])\n",
    "\n",
    "dataset_name = tx['Level (Sequence)'].unique()[0]\n",
    "dataset_num = tx['Level (Module)'].unique()[0]\n",
    "\n",
    "student_answers = {}\n",
    "student_times = {}\n",
    "titles = []\n",
    "\n",
    "if (confName != \"Invalid\"):\n",
    "    for problem_file in glob.glob(transaction_file):\n",
    "        df = pd.read_csv(problem_file,delimiter=\"\\t\", index_col='Row')\n",
    "\n",
    "        for i, j in df.iterrows():\n",
    "            if str(j['Step Name']) in conf_names and str(j['Is Last Attempt']) == '1.0'and isinstance(j['Input'],str) and \"<material>\" in j['Input']:\n",
    "                answer = re.findall(r'>(.*?)<', j['Input'])[0]\n",
    "                student_id = j['Anon Student Id']\n",
    "                time = j['Time']\n",
    "                problem = j['Problem Name']\n",
    "                if(str(j['Step Name']) not in titles):\n",
    "                    titles.append(str(j['Step Name']))\n",
    "                if student_id in student_answers.keys():\n",
    "                    student_answers[student_id].append(answer)\n",
    "                    student_times[student_id].append(time)\n",
    "\n",
    "                else:\n",
    "                    student_answers[student_id] = [answer]\n",
    "                    student_times[student_id] = [time]\n",
    "    titles.append('Student Times')\n",
    "\n",
    "confidences = {}\n",
    "for sid in student_ids:\n",
    "    k = sid\n",
    "    if k in student_answers.keys() or k in keyset:\n",
    "        confidences[k] = []\n",
    "        if k in student_answers.keys():\n",
    "            confidences[k].extend(student_answers[k])\n",
    "            confidences[k].append(student_times[k][0])\n",
    "#         else:\n",
    "#             confidences[k].extend(['NA', 'NA', 'NA', 'NA', 'NA'])\n",
    "#             confidences[k].append('NA')\n",
    "        confidences[k].append(dataset_name) #dataset name\n",
    "        confidences[k].append(dataset_num) #dataset number\n",
    "\n",
    "        for x in student_demos:\n",
    "            confidences[k].append(student_demos[x].get(k))\n",
    "    \n",
    "if(demoName != \"Invalid\" or confName != \"Invalid\"):\n",
    "    titles.append('Dataset Name')\n",
    "    titles.append('Dataset Topic')\n",
    "    for x in student_demos:\n",
    "        titles.append(x)\n",
    "# print(titles)\n",
    "# print(confidences)\n",
    "if (demoName != \"Invalid\") or (confName != \"Invalid\"):\n",
    "    final_df = pd.DataFrame.from_dict(confidences, orient=\"index\")\n",
    "    final_df.columns = titles\n",
    "    final_df.to_csv(\"Demographic_and_Confidence_Survey.csv\")"
   ]
  },
  {
   "cell_type": "code",
   "execution_count": null,
   "metadata": {},
   "outputs": [],
   "source": []
  },
  {
   "cell_type": "code",
   "execution_count": null,
   "metadata": {},
   "outputs": [],
   "source": []
  }
 ],
 "metadata": {
  "hide_input": false,
  "kernelspec": {
   "display_name": "Python 3 (ipykernel)",
   "language": "python",
   "name": "python3"
  },
  "language_info": {
   "codemirror_mode": {
    "name": "ipython",
    "version": 3
   },
   "file_extension": ".py",
   "mimetype": "text/x-python",
   "name": "python",
   "nbconvert_exporter": "python",
   "pygments_lexer": "ipython3",
   "version": "3.9.12"
  }
 },
 "nbformat": 4,
 "nbformat_minor": 4
}
