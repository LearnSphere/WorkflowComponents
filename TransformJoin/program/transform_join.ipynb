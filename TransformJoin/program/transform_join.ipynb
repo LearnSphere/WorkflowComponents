{
 "cells": [
  {
   "cell_type": "code",
   "execution_count": 79,
   "metadata": {},
   "outputs": [],
   "source": [
    "import pandas as pd\n",
    "import numpy as np\n",
    "import sys\n",
    "import argparse\n",
    "import os"
   ]
  },
  {
   "cell_type": "code",
   "execution_count": null,
   "metadata": {},
   "outputs": [],
   "source": [
    "#test command from WF component:\n",
    "#C:/ProgramData/Anaconda3/Python transform_join.py -programDir . -workingDir . -file1Delimiter \"\\t\" -file2Delimiter \"\\t\" -file_1 \"generic_table_1.txt\" -file_1_match_columns \"Anon Student Id,Row\" -file_2 \"student_mapping.txt\" -file_2_match_columns \"Anon Student Id,Actual Student Id\" -howToConcatenate vertical -howToJoin merge -howToMerge left -numColumnsToMerge 2 \n",
    "#C:/ProgramData/Anaconda3/Python transform_join.py -programDir . -workingDir . -file1Delimiter \"\\t\" -file2Delimiter \"\\t\" -file_1 \"generic_table_1.txt\" -file_2 \"student_mapping.txt\" -howToConcatenate vertical -howToJoin concatenate -howToMerge left -numColumnsToMerge 5 \n",
    "\n",
    "#command line\n",
    "parser = argparse.ArgumentParser(description='Join.')\n",
    "parser.add_argument('-programDir', type=str, help='the component program directory')\n",
    "parser.add_argument('-workingDir', type=str, help='the component instance working directory')\n",
    "parser.add_argument('-file_1', help='file 1 to be processed', required=True)\n",
    "parser.add_argument('-file_2', help='file 2 to be processed', required=True)\n",
    "parser.add_argument('-file1Delimiter', help='file 1 field delimiter', default=\"\\t\")\n",
    "parser.add_argument('-file2Delimiter', help='file 2 field delimiter', default=\"\\t\")\n",
    "parser.add_argument('-file_1_match_columns', help='file 1 fields to be merged on')\n",
    "parser.add_argument('-file_2_match_columns', help='file 2 fields to be merged on')\n",
    "parser.add_argument('-howToJoin', choices=[\"concatenate\", \"merge\"], help='join method', required=True)\n",
    "parser.add_argument('-howToConcatenate', choices=[\"vertical\", \"horizontal\"], help='concatenate method')\n",
    "parser.add_argument('-howToMerge', choices=[\"inner\", \"left\", \"right\", \"outer\"], help='merge method')\n",
    "parser.add_argument('-numColumnsToMerge', help='how many columns to merge on')\n",
    "args, option_file_index_args = parser.parse_known_args()\n",
    "\n",
    "working_dir = args.workingDir\n",
    "join_method = args.howToJoin\n",
    "file_1 = args.file_1\n",
    "file_2 = args.file_2\n",
    "file_1_delimiter = args.file1Delimiter\n",
    "file_2_delimiter = args.file2Delimiter\n",
    "file_1_match_columns = args.file_1_match_columns\n",
    "file_2_match_columns = args.file_2_match_columns\n",
    "how_to_concatenate = args.howToConcatenate\n",
    "how_to_merge = args.howToMerge\n"
   ]
  },
  {
   "cell_type": "code",
   "execution_count": null,
   "metadata": {},
   "outputs": [],
   "source": [
    "def logToWfl(msg): \n",
    "    log_file_name = os.path.join(working_dir, 'joinLog.wfl')\n",
    "    now = dt.datetime.now()\n",
    "    logFile.write(str(now) + \": \" + msg + \"\\n\");\n",
    "    logFile.close();"
   ]
  },
  {
   "cell_type": "code",
   "execution_count": 76,
   "metadata": {},
   "outputs": [],
   "source": [
    "#for testing program\n",
    "# join_method = \"merge\"\n",
    "# file_1 = \"generic_table_1.txt\"\n",
    "# file_1_match_columns = \"Anon Student Id,First Transaction Time\" \n",
    "# file_2 = \"student_mapping.txt\" \n",
    "# file_2_match_columns = \"Anon Student Id,Actual Student Id\" \n",
    "# how_to_concatenate = \"vertical\"\n",
    "# how_to_merge = \"inner\" \n",
    "# file_1_delimiter = \"\\t\" \n",
    "# file_2_delimiter = \"\\t\"\n",
    "# working_dir = \".\""
   ]
  },
  {
   "cell_type": "code",
   "execution_count": 77,
   "metadata": {},
   "outputs": [],
   "source": [
    "try:\n",
    "    file_encoding = 'utf8'        # set file_encoding to the file encoding (utf8, latin1, etc.)\n",
    "    # input_fd1 = open(file_1, encoding=file_encoding, errors = 'backslashreplace')\n",
    "    # df1 = pd.read_csv(input_fd1, sep=file_1_delimiter, error_bad_lines=False, low_memory=False)\n",
    "    df1 = pd.read_csv(file_1,sep=file_1_delimiter,encoding='utf8',dtype=object, engine='python') \n",
    "    # input_fd2 = open(file_2, encoding=file_encoding, errors = 'backslashreplace')\n",
    "    # df2 = pd.read_csv(input_fd2, sep=file_2_delimiter, error_bad_lines=False, low_memory=False)\n",
    "    df2 = pd.read_csv(file_2,sep=file_2_delimiter,encoding='utf8',dtype=object, engine='python') \n",
    "except Warning as e:\n",
    "    logToWfl(e)\n",
    "    "
   ]
  },
  {
   "cell_type": "code",
   "execution_count": 78,
   "metadata": {},
   "outputs": [],
   "source": [
    "#concatenate\n",
    "result = None\n",
    "if join_method == 'concatenate':\n",
    "    if how_to_concatenate == 'horizontal':\n",
    "        result = pd.concat([df1, df2], ignore_index=True, sort=False, axis=1)\n",
    "    else:\n",
    "        result = pd.concat([df1, df2], ignore_index=True, sort=False, axis=0)\n",
    "#merge\n",
    "else:\n",
    "    left_on_col_list = file_1_match_columns.split(\",\")\n",
    "    right_on_col_list = file_2_match_columns.split(\",\")\n",
    "    #make sure all pair columns have the same column type\n",
    "    result = df1.merge(df2, how=how_to_merge, left_on=left_on_col_list, right_on=right_on_col_list)\n",
    "\n",
    "output_file = os.path.join(working_dir, 'joinedResult.txt')\n",
    "result.to_csv(output_file, sep=\"\\t\", index=False, )  "
   ]
  },
  {
   "cell_type": "code",
   "execution_count": null,
   "metadata": {},
   "outputs": [],
   "source": []
  }
 ],
 "metadata": {
  "kernelspec": {
   "display_name": "Python 3",
   "language": "python",
   "name": "python3"
  },
  "language_info": {
   "codemirror_mode": {
    "name": "ipython",
    "version": 3
   },
   "file_extension": ".py",
   "mimetype": "text/x-python",
   "name": "python",
   "nbconvert_exporter": "python",
   "pygments_lexer": "ipython3",
   "version": "3.7.3"
  }
 },
 "nbformat": 4,
 "nbformat_minor": 2
}
